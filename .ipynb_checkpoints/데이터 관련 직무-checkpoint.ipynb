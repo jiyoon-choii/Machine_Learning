{
 "cells": [
  {
   "cell_type": "markdown",
   "metadata": {},
   "source": [
    "- 데이터사이언티스트 - 데이터 수집,데이터 전처리 자동화, 서비스 \n",
    "- 데이터 엔지니어(비중 多) - 컴퓨터 언어, 데이터 분석 및 관리 \n",
    "- 데이터 분석가 - 신입 x, 경력 있어야함. 전문적 통계 지식 기반"
   ]
  },
  {
   "cell_type": "markdown",
   "metadata": {},
   "source": [
    "## 데이터 엔지니어의 역할\n",
    "### 분석단계\n",
    "1. 분석 목적 및 방향 설계\n",
    "    2. 데이터 선택 및 수집 : 분석 데이터 수집\n",
    "    3. 데이터 탐색 및 정제 : 샘플링 및 데이터 정제\n",
    "4. 모델 생성 및 평가\n",
    "    5. 적용 : 프로세스 설계, 시스템 개발, 운영적용 및 모니터링(시각화)\n",
    "    \n",
    "### 시스템화 단계\n",
    "1. 데이터 수집\n",
    "2. 데이터 통합 및 전처리\n",
    "3. 분석 알고리즘 개발\n",
    " -- 개발언어 선택, 프로세스 설계, 분석 알고리즘 개발 \n",
    ": Java, Scala / R, Python, Spark-ML\n",
    "4. 시각화\n",
    "5. 운영 \n",
    "\n",
    "## 데이터 엔지니어의 주요 역량\n",
    "- 역량\n",
    "1) 컴퓨터 엔지니어링\n",
    "2) 개발 (e.g.Java, Scala, Python, SQL ...)\n",
    "3) 데이터 저장 기술 (DB, Nosql)\n",
    "4) Web 등 시스템화 관련 기술 \n",
    "\n",
    "- 빅데이터 인프라 역량\n",
    "1) 데이터 수집 기술\n",
    "2) 분산 파일 시스템, 분산 컴퓨팅 등의 빅데이터 기술 요소 이해\n",
    "3) 클라우드 기술"
   ]
  },
  {
   "cell_type": "markdown",
   "metadata": {},
   "source": [
    "## 연구와 비즈니스에서의 데이터 분석\n",
    "1. 연구와 데이터 분석\n",
    "- 분석 목표를 먼저 설정\n",
    "- 실험, 설문 등을 통해 데이터 수집\n",
    "2. 비즈니스와 데이터 분석\n",
    "- 기업 활동에서 쌓인 데이터 활용\n",
    "- 데이터로 분석 가능한 적절 분석 목표 설정 \n"
   ]
  },
  {
   "cell_type": "markdown",
   "metadata": {},
   "source": [
    "## 민간데이터\n",
    "- SKT 빅데이터허브\n",
    "- \n",
    "- kaggle -- 성공사례만 보고 공부하지 않기"
   ]
  },
  {
   "cell_type": "markdown",
   "metadata": {},
   "source": [
    "## 탐색적 데이터 분석\n",
    "- 변수, 변수의 관계 등 데이터 자체의 특성 확인 위한 분석\n",
    "- 간단한 기술 통계량 계산과 다양한 그래프 활용"
   ]
  },
  {
   "cell_type": "markdown",
   "metadata": {},
   "source": [
    "## 요약과 모형\n",
    "- 요약 : 데이터의 정보를 인식 가능한 수준으로 줄이는 과정\n",
    "- 모형 : 정해진 알고리즘에 따라 데이터 속 변수와 관측치 간 관계를 확인"
   ]
  },
  {
   "cell_type": "markdown",
   "metadata": {},
   "source": [
    "# 데이터 가공\n",
    "1. 부분 데이터 선택\n",
    "-- 관심 있는 관측치와 변수 선택 \n",
    "2. 변수 결합, 분해 및 파생변수 생성\n",
    "-- 기존 변수를 더 활용하기 좋은 형태로 변환 "
   ]
  },
  {
   "cell_type": "markdown",
   "metadata": {},
   "source": [
    "# 분석 실행\n",
    "1. 분석 목표 설정 \n",
    "    -- 실행 가능성과 활용 가능성을 고려\n",
    "2. 데이터 수집\n",
    "    -- 내부 데이터 및 관련 있는 외부 데이터 활용\n",
    "3. 탐색적 데이터 분석\n",
    "    -- 변수나 변수 관계에 대한 열린 분석 실행\n",
    "4. 확증적 데이터 분석 / 모형 적합\n",
    "    -- 검정, 알고리즘 등을 활용한 분석 실행"
   ]
  },
  {
   "cell_type": "markdown",
   "metadata": {},
   "source": [
    "## 분석의 반복과 피드백의 필요성\n",
    "\n",
    "- 동일한 분석을 반복하여 결과의 재현 확인\n",
    "- 피드백을 통해 분석 목표 및 데이터 처리, 분석 방법 수정 고려\n",
    "- 분석의 정교화 및 모형의 고도화 "
   ]
  },
  {
   "cell_type": "markdown",
   "metadata": {},
   "source": [
    "## 분석 결과 공유\n",
    "분석과 분석 결과의 공유\n",
    "- 전체 흐름을 이해할 수 있는 수준으로요약\n",
    "- 시각화\n",
    "- 적절한 도구 활용하여 전달\n",
    "\n",
    "/MS office /markdown /대시보드 "
   ]
  },
  {
   "cell_type": "code",
   "execution_count": null,
   "metadata": {},
   "outputs": [],
   "source": []
  }
 ],
 "metadata": {
  "kernelspec": {
   "display_name": "Python 3",
   "language": "python",
   "name": "python3"
  },
  "language_info": {
   "codemirror_mode": {
    "name": "ipython",
    "version": 3
   },
   "file_extension": ".py",
   "mimetype": "text/x-python",
   "name": "python",
   "nbconvert_exporter": "python",
   "pygments_lexer": "ipython3",
   "version": "3.7.4"
  }
 },
 "nbformat": 4,
 "nbformat_minor": 2
}
