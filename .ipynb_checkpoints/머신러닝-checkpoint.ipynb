{
 "cells": [
  {
   "cell_type": "markdown",
   "metadata": {},
   "source": [
    "Big Data )\n",
    "- 정해진 시간 내에 한 대의 머신으로 처리가 어려운 크기의 데이터\n",
    "- 고성능 머신 또는 다수의 머신을 사용해 목표대로 데이터를 처리할 수 있음 "
   ]
  },
  {
   "cell_type": "markdown",
   "metadata": {},
   "source": [
    "Mechine Learning )\n",
    "- 데이터로부터 패턴을 학습하는 기법 "
   ]
  },
  {
   "cell_type": "markdown",
   "metadata": {},
   "source": [
    "- 활용 : Big Data | Data Mining \n",
    "- 기술개념 : 분산처리 데이터베이스 | Machine Learning\n",
    "- 알고리즘 구현체 : Haddop ... | Logistics "
   ]
  },
  {
   "cell_type": "markdown",
   "metadata": {},
   "source": [
    "Deep Learning )\n",
    "- Neural Net 기반 머신러닝 알고리즘 \n",
    "- 사진내 객체 인식, 번역 등 탁월한 성능"
   ]
  },
  {
   "cell_type": "markdown",
   "metadata": {},
   "source": [
    "Machine Learning Process )\n",
    "            Existing Data \n",
    "                |\n",
    "    Machine Learning Algorithms \n",
    "                |\n",
    " New Data -> Model -> Prediction "
   ]
  },
  {
   "cell_type": "markdown",
   "metadata": {},
   "source": [
    "회귀 - 데이터(X,Y) : X의 숫자 Y 예측\n",
    "분류 - 데이터(X,Y) : X의 Y를 분류\n",
    "군집 - 데이터(X) : X를 n개로 나누기 "
   ]
  },
  {
   "cell_type": "markdown",
   "metadata": {},
   "source": [
    "Supervised - Y 데이터 o\n",
    "-regression \n",
    "-classfication\n",
    "\n",
    "unsupervised - Y 데이터 x \n",
    "-clustering"
   ]
  },
  {
   "cell_type": "markdown",
   "metadata": {},
   "source": [
    "y = ax + b\n",
    "- x : 독립변수\n",
    "- y : 종속변수 \n",
    "- a,b 알고리즘을 통해 최적의 값 찾음"
   ]
  },
  {
   "cell_type": "markdown",
   "metadata": {},
   "source": [
    "- Feature \n",
    "\n",
    "-- 머신러닝에서 데이터의 특징을 나타내는 변수\n",
    "\n",
    "-- Data Frame 에서 컬럼을 뜻함 "
   ]
  },
  {
   "cell_type": "code",
   "execution_count": null,
   "metadata": {},
   "outputs": [],
   "source": [
    "- AND 게이트 / OR 게이트 / NAND 게이트(AND 를 부정) / XOR 게이트(OR 부정)"
   ]
  }
 ],
 "metadata": {
  "kernelspec": {
   "display_name": "Python 3",
   "language": "python",
   "name": "python3"
  },
  "language_info": {
   "codemirror_mode": {
    "name": "ipython",
    "version": 3
   },
   "file_extension": ".py",
   "mimetype": "text/x-python",
   "name": "python",
   "nbconvert_exporter": "python",
   "pygments_lexer": "ipython3",
   "version": "3.7.4"
  }
 },
 "nbformat": 4,
 "nbformat_minor": 2
}
